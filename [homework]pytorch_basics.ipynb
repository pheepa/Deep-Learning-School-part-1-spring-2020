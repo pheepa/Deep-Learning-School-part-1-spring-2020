{
  "nbformat": 4,
  "nbformat_minor": 0,
  "metadata": {
    "hide_input": false,
    "kernelspec": {
      "display_name": "Python 3",
      "language": "python",
      "name": "python3"
    },
    "language_info": {
      "codemirror_mode": {
        "name": "ipython",
        "version": 3
      },
      "file_extension": ".py",
      "mimetype": "text/x-python",
      "name": "python",
      "nbconvert_exporter": "python",
      "pygments_lexer": "ipython3",
      "version": "3.6.8"
    },
    "varInspector": {
      "cols": {
        "lenName": 16,
        "lenType": 16,
        "lenVar": 40
      },
      "kernels_config": {
        "python": {
          "delete_cmd_postfix": "",
          "delete_cmd_prefix": "del ",
          "library": "var_list.py",
          "varRefreshCmd": "print(var_dic_list())"
        },
        "r": {
          "delete_cmd_postfix": ") ",
          "delete_cmd_prefix": "rm(",
          "library": "var_list.r",
          "varRefreshCmd": "cat(var_dic_list()) "
        }
      },
      "types_to_exclude": [
        "module",
        "function",
        "builtin_function_or_method",
        "instance",
        "_Feature"
      ],
      "window_display": false
    },
    "colab": {
      "name": "Copy of [homework]pytorch_basics.ipynb",
      "provenance": [],
      "collapsed_sections": [],
      "include_colab_link": true
    }
  },
  "cells": [
    {
      "cell_type": "markdown",
      "metadata": {
        "id": "view-in-github",
        "colab_type": "text"
      },
      "source": [
        "<a href=\"https://colab.research.google.com/github/pheepa/Deep-Learning-School-part-1-spring-2020/blob/master/%5Bhomework%5Dpytorch_basics.ipynb\" target=\"_parent\"><img src=\"https://colab.research.google.com/assets/colab-badge.svg\" alt=\"Open In Colab\"/></a>"
      ]
    },
    {
      "cell_type": "markdown",
      "metadata": {
        "id": "wscvRoo_Y2bp",
        "colab_type": "text"
      },
      "source": [
        "<p style=\"align: center;\"><img align=center src=\"https://s8.hostingkartinok.com/uploads/images/2018/08/308b49fcfbc619d629fe4604bceb67ac.jpg\"  width=400></p>\n",
        "\n",
        "<h3 style=\"text-align: center;\"><b>Физтех-Школа Прикладной математики и информатики (ФПМИ) МФТИ</b></h3>"
      ]
    },
    {
      "cell_type": "code",
      "metadata": {
        "id": "Lg09ve27Y2br",
        "colab_type": "code",
        "colab": {}
      },
      "source": [
        "from matplotlib import pyplot as plt\n",
        "import numpy as np\n",
        "from sklearn import datasets\n",
        "from sklearn.model_selection import train_test_split\n",
        "import torch"
      ],
      "execution_count": 0,
      "outputs": []
    },
    {
      "cell_type": "markdown",
      "metadata": {
        "id": "Gbpu-GrgY2bv",
        "colab_type": "text"
      },
      "source": [
        "### 1. Нахождение сложной производной"
      ]
    },
    {
      "cell_type": "markdown",
      "metadata": {
        "id": "GZKVcvtTY2bw",
        "colab_type": "text"
      },
      "source": [
        "Найдите производную по x от функции \n",
        "$$\\sin\\left(\\tan(x)\\frac{x^2}{y} + \\ln(e^{-x^2 + 3}+x^3y)\\right)\\tan(x^2e^{x^9})$$\n",
        "\n",
        "При этом надо пользоваться встроенным в PyTorch autograd. Численное вычисление производной может не дать нужный результат."
      ]
    },
    {
      "cell_type": "code",
      "metadata": {
        "id": "ihvUiIDQY2bx",
        "colab_type": "code",
        "colab": {}
      },
      "source": [
        "def find_x_derivative(x, y):\n",
        "\n",
        "  x = torch.tensor([x], dtype=float, requires_grad=True)\n",
        "\n",
        "  y = torch.tensor([y], dtype=float, requires_grad=False)\n",
        "\n",
        "  f = torch.sin( torch.tan(x)*(x*x/y) + torch.log( torch.exp(-x*x+3) + (x**3)*y) ) * torch.tan( x*x*(torch.exp(x**9)) )\n",
        "\n",
        "  f.backward()   \n",
        "\n",
        "  return x.grad"
      ],
      "execution_count": 0,
      "outputs": []
    },
    {
      "cell_type": "code",
      "metadata": {
        "id": "8gH64c08TEil",
        "colab_type": "code",
        "outputId": "0f736d8e-aab3-4481-bae5-d9506ac81938",
        "colab": {
          "base_uri": "https://localhost:8080/",
          "height": 34
        }
      },
      "source": [
        "find_x_derivative(1, 21)"
      ],
      "execution_count": 5,
      "outputs": [
        {
          "output_type": "execute_result",
          "data": {
            "text/plain": [
              "tensor([-9.0207], dtype=torch.float64)"
            ]
          },
          "metadata": {
            "tags": []
          },
          "execution_count": 5
        }
      ]
    },
    {
      "cell_type": "markdown",
      "metadata": {
        "collapsed": true,
        "id": "mNbn5UzGY2b0",
        "colab_type": "text"
      },
      "source": [
        "# 2. Нахождение косинусной близости\n",
        "\n",
        "Вам даны две матрицы A и B. Необходимо посчитать косинусную близость между строчками матрицы A и столбцами матрицы B. Ответ - матрица чисел, где номер строки - номер строки из матрицы А, а номер столбца - номер столбца из В, от которых бралась косинусная близость.\n",
        "\n",
        "Напомним, что косинусная близость двух векторов - косинус угла между ними. В n-мерном пространстве косинус угла между веткорами удобнее всего через скалярное произведение:\n",
        "$$\\cos(angle(x, y)) = \\frac{x \\cdot y}{\\left\\|x\\right\\| \\left\\|y\\right\\|}$$\n",
        "\n",
        "(Наша операция очень похожа на умножение матриц)"
      ]
    },
    {
      "cell_type": "code",
      "metadata": {
        "id": "9r2uiysQY2b1",
        "colab_type": "code",
        "colab": {}
      },
      "source": [
        "def get_cos_sim(A, B):\n",
        "    \"\"\"\n",
        "        A, B - torch float tensors\n",
        "    \"\"\"\n",
        "    norms_a = torch.zeros((A.shape[0], 1), dtype=float)\n",
        "    norms_b = torch.zeros((1, B.shape[1]), dtype=float)\n",
        "\n",
        "    for i in range(A.shape[0]):\n",
        "        norms_a[i] = torch.norm(A[i,:], p='fro')\n",
        "\n",
        "    for i in range(B.shape[1]):\n",
        "        norms_b[0][i] = torch.norm(B[:,i], p='fro')\n",
        "\n",
        "    norms = norms_a.mm(norms_b)\n",
        "    scalars = A.mm(B)\n",
        "    \n",
        "    return scalars/norms"
      ],
      "execution_count": 0,
      "outputs": []
    },
    {
      "cell_type": "code",
      "metadata": {
        "id": "DxGQ85uZS10T",
        "colab_type": "code",
        "outputId": "aee543c2-72b7-4d70-afb8-575573b58995",
        "colab": {
          "base_uri": "https://localhost:8080/",
          "height": 34
        }
      },
      "source": [
        "A = torch.tensor([[1, -47, 25, -3], [10, 17, -15, 22], [-3, -7, 26, 36], [12, -27, -42, 0]], dtype=float)\n",
        "B = torch.tensor([[-50, -13, 1, 10, 1242], [21, 48, -13, -14, -20], [20, 15, 11, 43, 11], [11, 103, 147, 27, -8]], dtype=float)\n",
        "print(torch.mean(get_cos_sim(A, B)))\n",
        "\n"
      ],
      "execution_count": 7,
      "outputs": [
        {
          "output_type": "stream",
          "text": [
            "tensor(0.1498, dtype=torch.float64)\n"
          ],
          "name": "stdout"
        }
      ]
    },
    {
      "cell_type": "code",
      "metadata": {
        "id": "DQ9N2k1PYzIH",
        "colab_type": "code",
        "colab": {}
      },
      "source": [
        ""
      ],
      "execution_count": 0,
      "outputs": []
    },
    {
      "cell_type": "markdown",
      "metadata": {
        "id": "BR_2JtdtY2b4",
        "colab_type": "text"
      },
      "source": [
        "# 3. Линейная регрессия\n",
        "\n",
        "Раньше мы самостоятельно считали производные, чтобы находить веса линейной регрессии с помощью градиентного спуска. Теперь нам нужно использовать для этого PyTorch и его autograd. \n",
        "\n",
        "**Важно**: на самом деле .backward не обновляет содержимое матриц с производными (some_tensor.grad), а прибавляет к ним только что посчитаные значения проивзодных. Это значит, что вызвав .backward дважды, вы получите удвоенную производную. Так как мы обновляем веса в цикле и много раз вызываем .backward, то очень быстро мы получим мусор в some_tensor.grad, если не будем его каждый раз обнулять. Таким образом, в конц итериации после использования производных обнулите значения в матрице производных для всех нужных Вам переменных. Делается это вот так \n",
        "> some\\_tensor.grad.data.zero_()"
      ]
    },
    {
      "cell_type": "code",
      "metadata": {
        "id": "04sDcgSsbcJk",
        "colab_type": "code",
        "colab": {}
      },
      "source": [
        "from torch import nn"
      ],
      "execution_count": 0,
      "outputs": []
    },
    {
      "cell_type": "code",
      "metadata": {
        "id": "XbuGEdgBY2b5",
        "colab_type": "code",
        "colab": {}
      },
      "source": [
        "class LinearRegression:\n",
        "    def get_loss(self, preds, y):\n",
        "        \"\"\"\n",
        "            @param preds: предсказания модели\n",
        "            @param y: истиные значения\n",
        "            @return mse: значение MSE на переданных данных\n",
        "        \"\"\"\n",
        "        loss = nn.MSELoss()\n",
        "        return loss(y, preds)\n",
        "    \n",
        "    def init_weights(self, input_size, output_size):\n",
        "        \"\"\"\n",
        "            Инициализирует параметры модели\n",
        "            W - матрица размерности (input_size, output_size)\n",
        "            инициализируется рандомными числами из\n",
        "            uniform распределения (torch.rand())\n",
        "            b - вектор размерности (1, output_size)\n",
        "            инициализируется нулями\n",
        "        \"\"\"\n",
        "        torch.manual_seed(0) #необходимо для воспроизводимости результатов\n",
        "        self.W = torch.rand(input_size, output_size,  requires_grad=True, dtype=torch.float32)\n",
        "        self.b = torch.zeros(1, output_size, requires_grad=True, dtype=torch.float32)\n",
        "\n",
        "    def fit(self, X, y, num_epochs=1000, lr=0.001):\n",
        "        \"\"\"\n",
        "            Обучение модели линейной регрессии методом градиентного спуска\n",
        "            @param X: размерности (num_samples, input_shape)\n",
        "            @param y: размерности (num_samples, output_shape)\n",
        "            @param num_epochs: количество итераций градиентного спуска\n",
        "            @param lr: шаг градиентного спуска\n",
        "            @return metrics: вектор значений MSE на каждом шаге градиентного\n",
        "            спуска.\n",
        "        \"\"\"\n",
        "        self.init_weights(X.shape[1], y.shape[1])\n",
        "        metrics = []\n",
        "        for _ in range(num_epochs):\n",
        "            preds = self.predict(X)\n",
        "            # сделайте вычисления градиентов c помощью Pytorch и обновите веса\n",
        "            # осторожнее, оберните вычитание градиента в \n",
        "#                 with torch.no_grad():\n",
        "#                     #some code\n",
        "            # иначе во время прибавления градиента к переменной создастся очень много нод в дереве операций\n",
        "            # и ваши модели в будущем будут падать от нехватки памяти\n",
        "            self.get_loss(preds, y).backward()\n",
        "\n",
        "            with torch.no_grad():\n",
        "                self.W -= lr*self.W.grad\n",
        "                self.b -= lr*self.b.grad\n",
        "\n",
        "                self.W.grad.data.zero_()\n",
        "                self.b.grad.data.zero_()\n",
        "\n",
        "            metrics.append(self.get_loss(preds, y).data)\n",
        "        return metrics\n",
        "\n",
        "    def predict(self, X):\n",
        "        \"\"\"\n",
        "            Думаю, тут все понятно. Сделайте свои предсказания :)\n",
        "        \"\"\"\n",
        "        return X @ self.W + self.b"
      ],
      "execution_count": 0,
      "outputs": []
    },
    {
      "cell_type": "markdown",
      "metadata": {
        "id": "QQ8GJjFKaY6r",
        "colab_type": "text"
      },
      "source": [
        "1. Сгенерируйте данные с помощью make_regression с параметрами n_targets=3, n_features=2, noise=10, random_state=42. \n",
        "2. Обучите модель линейной регрессии, оставив в fit параметры num_epochs и lr по умолчанию (обратите внимание, что перед обучением нужно привести данные к типу, использующимся в torch) \n",
        "2. Посчитайте среднее значение метрики MSE по всем итерациям цикла в fit (массив из значений MSE на каждой итерации возвращается из метода fit). Ответом, который необходимо сдать в систему, будет число, округленное до 3х знаков после запятой."
      ]
    },
    {
      "cell_type": "code",
      "metadata": {
        "id": "zOVkSg_0Y2b8",
        "colab_type": "code",
        "colab": {}
      },
      "source": [
        "X, Y = datasets.make_regression(n_targets=3, n_features=2, noise=10, random_state=42)\n",
        "X = torch.tensor(X, dtype=torch.float32)\n",
        "Y = torch.tensor(Y, dtype=torch.float32)\n",
        "model = LinearRegression()\n",
        "mse = model.fit(X, Y)"
      ],
      "execution_count": 0,
      "outputs": []
    },
    {
      "cell_type": "code",
      "metadata": {
        "id": "v-Mlw-BFmpFv",
        "colab_type": "code",
        "outputId": "1163ae9d-89bd-44a6-c88c-a690eee55ea8",
        "colab": {
          "base_uri": "https://localhost:8080/",
          "height": 282
        }
      },
      "source": [
        "plt.plot(mse)"
      ],
      "execution_count": 35,
      "outputs": [
        {
          "output_type": "execute_result",
          "data": {
            "text/plain": [
              "[<matplotlib.lines.Line2D at 0x7fc1ae424710>]"
            ]
          },
          "metadata": {
            "tags": []
          },
          "execution_count": 35
        },
        {
          "output_type": "display_data",
          "data": {
            "image/png": "[encoded data removed]",
            "text/plain": [
              "<Figure size 432x288 with 1 Axes>"
            ]
          },
          "metadata": {
            "tags": []
          }
        }
      ]
    },
    {
      "cell_type": "code",
      "metadata": {
        "id": "oMgiJA_Va6g_",
        "colab_type": "code",
        "outputId": "7d30959c-6a3c-40f1-e617-be2783c4f007",
        "colab": {
          "base_uri": "https://localhost:8080/",
          "height": 34
        }
      },
      "source": [
        "print(np.mean(mse))"
      ],
      "execution_count": 36,
      "outputs": [
        {
          "output_type": "stream",
          "text": [
            "4256.561\n"
          ],
          "name": "stdout"
        }
      ]
    },
    {
      "cell_type": "markdown",
      "metadata": {
        "id": "iJVuCWOxbACZ",
        "colab_type": "text"
      },
      "source": [
        "Здесь предлагаем протестировать метод predict удобным вам образом."
      ]
    },
    {
      "cell_type": "code",
      "metadata": {
        "id": "XF5Rw27ba-mj",
        "colab_type": "code",
        "colab": {
          "base_uri": "https://localhost:8080/",
          "height": 34
        },
        "outputId": "a426d3d8-6c01-4b58-fcb7-13aa99b22721"
      },
      "source": [
        "model.predict(X[1])"
      ],
      "execution_count": 39,
      "outputs": [
        {
          "output_type": "execute_result",
          "data": {
            "text/plain": [
              "tensor([[-56.6351, -42.0323, -39.0554]], grad_fn=<AddBackward0>)"
            ]
          },
          "metadata": {
            "tags": []
          },
          "execution_count": 39
        }
      ]
    },
    {
      "cell_type": "code",
      "metadata": {
        "id": "-_TNdQ9QGjPF",
        "colab_type": "code",
        "colab": {}
      },
      "source": [
        ""
      ],
      "execution_count": 0,
      "outputs": []
    }
  ]
}